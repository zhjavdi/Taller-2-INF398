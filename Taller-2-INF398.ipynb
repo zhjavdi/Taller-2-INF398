{
  "nbformat": 4,
  "nbformat_minor": 0,
  "metadata": {
    "colab": {
      "name": "dataset2.ipynb",
      "provenance": [],
      "collapsed_sections": [],
      "toc_visible": true
    },
    "kernelspec": {
      "name": "python3",
      "display_name": "Python 3"
    },
    "language_info": {
      "name": "python"
    }
  },
  "cells": [
    {
      "cell_type": "code",
      "metadata": {
        "id": "LAp7FzS0Y6f7"
      },
      "source": [
        "import os\n",
        "import numpy as np\n",
        "import pandas as pd\n",
        "import matplotlib.pyplot as plt\n",
        "import seaborn as sns\n",
        "from sklearn import datasets\n",
        "from sklearn.preprocessing import StandardScaler\n",
        "from sklearn.decomposition import PCA\n",
        "from sklearn.model_selection import train_test_split\n",
        "from sklearn.linear_model import LogisticRegression"
      ],
      "execution_count": null,
      "outputs": []
    },
    {
      "cell_type": "code",
      "metadata": {
        "colab": {
          "base_uri": "https://localhost:8080/"
        },
        "id": "c88ZvaHXaF7_",
        "outputId": "d09acf2a-7e6a-4883-e282-b093aa207438"
      },
      "source": [
        "print(\"Mounting your Google Drive ...\")\n",
        "\n",
        "from google.colab import drive\n",
        "drive.flush_and_unmount()\n",
        "drive.mount('/content/drive',force_remount=True)\n",
        " \n",
        "path = \"/content/drive/My Drive/clases-II-2021/Machine-Learning/datasets/taller02/\"#Esta es la ruta\n",
        "\n",
        "# name='BC.csv'"
      ],
      "execution_count": null,
      "outputs": [
        {
          "output_type": "stream",
          "name": "stdout",
          "text": [
            "Mounting your Google Drive ...\n",
            "Mounted at /content/drive\n"
          ]
        }
      ]
    },
    {
      "cell_type": "code",
      "metadata": {
        "colab": {
          "base_uri": "https://localhost:8080/"
        },
        "id": "5-ym3EpXdVzp",
        "outputId": "c51d0e78-3f42-4d32-eb1e-8e252a5ba35e"
      },
      "source": [
        "digits_dict = datasets.load_digits()\n",
        "print(digits_dict[\"DESCR\"])"
      ],
      "execution_count": null,
      "outputs": [
        {
          "output_type": "stream",
          "name": "stdout",
          "text": [
            ".. _digits_dataset:\n",
            "\n",
            "Optical recognition of handwritten digits dataset\n",
            "--------------------------------------------------\n",
            "\n",
            "**Data Set Characteristics:**\n",
            "\n",
            "    :Number of Instances: 1797\n",
            "    :Number of Attributes: 64\n",
            "    :Attribute Information: 8x8 image of integer pixels in the range 0..16.\n",
            "    :Missing Attribute Values: None\n",
            "    :Creator: E. Alpaydin (alpaydin '@' boun.edu.tr)\n",
            "    :Date: July; 1998\n",
            "\n",
            "This is a copy of the test set of the UCI ML hand-written digits datasets\n",
            "https://archive.ics.uci.edu/ml/datasets/Optical+Recognition+of+Handwritten+Digits\n",
            "\n",
            "The data set contains images of hand-written digits: 10 classes where\n",
            "each class refers to a digit.\n",
            "\n",
            "Preprocessing programs made available by NIST were used to extract\n",
            "normalized bitmaps of handwritten digits from a preprinted form. From a\n",
            "total of 43 people, 30 contributed to the training set and different 13\n",
            "to the test set. 32x32 bitmaps are divided into nonoverlapping blocks of\n",
            "4x4 and the number of on pixels are counted in each block. This generates\n",
            "an input matrix of 8x8 where each element is an integer in the range\n",
            "0..16. This reduces dimensionality and gives invariance to small\n",
            "distortions.\n",
            "\n",
            "For info on NIST preprocessing routines, see M. D. Garris, J. L. Blue, G.\n",
            "T. Candela, D. L. Dimmick, J. Geist, P. J. Grother, S. A. Janet, and C.\n",
            "L. Wilson, NIST Form-Based Handprint Recognition System, NISTIR 5469,\n",
            "1994.\n",
            "\n",
            ".. topic:: References\n",
            "\n",
            "  - C. Kaynak (1995) Methods of Combining Multiple Classifiers and Their\n",
            "    Applications to Handwritten Digit Recognition, MSc Thesis, Institute of\n",
            "    Graduate Studies in Science and Engineering, Bogazici University.\n",
            "  - E. Alpaydin, C. Kaynak (1998) Cascading Classifiers, Kybernetika.\n",
            "  - Ken Tang and Ponnuthurai N. Suganthan and Xi Yao and A. Kai Qin.\n",
            "    Linear dimensionalityreduction using relevance weighted LDA. School of\n",
            "    Electrical and Electronic Engineering Nanyang Technological University.\n",
            "    2005.\n",
            "  - Claudio Gentile. A New Approximate Maximal Margin Classification\n",
            "    Algorithm. NIPS. 2000.\n",
            "\n"
          ]
        }
      ]
    },
    {
      "cell_type": "markdown",
      "metadata": {
        "id": "GegRmblUe27D"
      },
      "source": [
        "##Exploración"
      ]
    },
    {
      "cell_type": "code",
      "metadata": {
        "colab": {
          "base_uri": "https://localhost:8080/"
        },
        "id": "t_i63WVTdfI-",
        "outputId": "20ab424c-a7a6-4cb7-e3ce-70ac513f817d"
      },
      "source": [
        "digits_dict.keys()"
      ],
      "execution_count": null,
      "outputs": [
        {
          "output_type": "execute_result",
          "data": {
            "text/plain": [
              "dict_keys(['data', 'target', 'frame', 'feature_names', 'target_names', 'images', 'DESCR'])"
            ]
          },
          "metadata": {},
          "execution_count": 34
        }
      ]
    },
    {
      "cell_type": "code",
      "metadata": {
        "colab": {
          "base_uri": "https://localhost:8080/"
        },
        "id": "n8ou6Xq2dwVC",
        "outputId": "f48b2757-685b-493e-a01f-23eca1ee3d56"
      },
      "source": [
        "digits_dict[\"target\"]"
      ],
      "execution_count": null,
      "outputs": [
        {
          "output_type": "execute_result",
          "data": {
            "text/plain": [
              "array([0, 1, 2, ..., 8, 9, 8])"
            ]
          },
          "metadata": {},
          "execution_count": 35
        }
      ]
    },
    {
      "cell_type": "code",
      "metadata": {
        "colab": {
          "base_uri": "https://localhost:8080/",
          "height": 226
        },
        "id": "voA5wNuBd6_8",
        "outputId": "878e7d09-73f3-4b0e-c9d8-dc9c3444249b"
      },
      "source": [
        "digits = (\n",
        "    pd.DataFrame(\n",
        "        digits_dict[\"data\"],\n",
        "    )\n",
        "    .rename(columns=lambda x: f\"c{x:02d}\")\n",
        "    .assign(target=digits_dict[\"target\"])\n",
        "    .astype(int)\n",
        ")\n",
        "\n",
        "digits.head()"
      ],
      "execution_count": null,
      "outputs": [
        {
          "output_type": "execute_result",
          "data": {
            "text/html": [
              "<div>\n",
              "<style scoped>\n",
              "    .dataframe tbody tr th:only-of-type {\n",
              "        vertical-align: middle;\n",
              "    }\n",
              "\n",
              "    .dataframe tbody tr th {\n",
              "        vertical-align: top;\n",
              "    }\n",
              "\n",
              "    .dataframe thead th {\n",
              "        text-align: right;\n",
              "    }\n",
              "</style>\n",
              "<table border=\"1\" class=\"dataframe\">\n",
              "  <thead>\n",
              "    <tr style=\"text-align: right;\">\n",
              "      <th></th>\n",
              "      <th>c00</th>\n",
              "      <th>c01</th>\n",
              "      <th>c02</th>\n",
              "      <th>c03</th>\n",
              "      <th>c04</th>\n",
              "      <th>c05</th>\n",
              "      <th>c06</th>\n",
              "      <th>c07</th>\n",
              "      <th>c08</th>\n",
              "      <th>c09</th>\n",
              "      <th>c10</th>\n",
              "      <th>c11</th>\n",
              "      <th>c12</th>\n",
              "      <th>c13</th>\n",
              "      <th>c14</th>\n",
              "      <th>c15</th>\n",
              "      <th>c16</th>\n",
              "      <th>c17</th>\n",
              "      <th>c18</th>\n",
              "      <th>c19</th>\n",
              "      <th>c20</th>\n",
              "      <th>c21</th>\n",
              "      <th>c22</th>\n",
              "      <th>c23</th>\n",
              "      <th>c24</th>\n",
              "      <th>c25</th>\n",
              "      <th>c26</th>\n",
              "      <th>c27</th>\n",
              "      <th>c28</th>\n",
              "      <th>c29</th>\n",
              "      <th>c30</th>\n",
              "      <th>c31</th>\n",
              "      <th>c32</th>\n",
              "      <th>c33</th>\n",
              "      <th>c34</th>\n",
              "      <th>c35</th>\n",
              "      <th>c36</th>\n",
              "      <th>c37</th>\n",
              "      <th>c38</th>\n",
              "      <th>c39</th>\n",
              "      <th>c40</th>\n",
              "      <th>c41</th>\n",
              "      <th>c42</th>\n",
              "      <th>c43</th>\n",
              "      <th>c44</th>\n",
              "      <th>c45</th>\n",
              "      <th>c46</th>\n",
              "      <th>c47</th>\n",
              "      <th>c48</th>\n",
              "      <th>c49</th>\n",
              "      <th>c50</th>\n",
              "      <th>c51</th>\n",
              "      <th>c52</th>\n",
              "      <th>c53</th>\n",
              "      <th>c54</th>\n",
              "      <th>c55</th>\n",
              "      <th>c56</th>\n",
              "      <th>c57</th>\n",
              "      <th>c58</th>\n",
              "      <th>c59</th>\n",
              "      <th>c60</th>\n",
              "      <th>c61</th>\n",
              "      <th>c62</th>\n",
              "      <th>c63</th>\n",
              "      <th>target</th>\n",
              "    </tr>\n",
              "  </thead>\n",
              "  <tbody>\n",
              "    <tr>\n",
              "      <th>0</th>\n",
              "      <td>0</td>\n",
              "      <td>0</td>\n",
              "      <td>5</td>\n",
              "      <td>13</td>\n",
              "      <td>9</td>\n",
              "      <td>1</td>\n",
              "      <td>0</td>\n",
              "      <td>0</td>\n",
              "      <td>0</td>\n",
              "      <td>0</td>\n",
              "      <td>13</td>\n",
              "      <td>15</td>\n",
              "      <td>10</td>\n",
              "      <td>15</td>\n",
              "      <td>5</td>\n",
              "      <td>0</td>\n",
              "      <td>0</td>\n",
              "      <td>3</td>\n",
              "      <td>15</td>\n",
              "      <td>2</td>\n",
              "      <td>0</td>\n",
              "      <td>11</td>\n",
              "      <td>8</td>\n",
              "      <td>0</td>\n",
              "      <td>0</td>\n",
              "      <td>4</td>\n",
              "      <td>12</td>\n",
              "      <td>0</td>\n",
              "      <td>0</td>\n",
              "      <td>8</td>\n",
              "      <td>8</td>\n",
              "      <td>0</td>\n",
              "      <td>0</td>\n",
              "      <td>5</td>\n",
              "      <td>8</td>\n",
              "      <td>0</td>\n",
              "      <td>0</td>\n",
              "      <td>9</td>\n",
              "      <td>8</td>\n",
              "      <td>0</td>\n",
              "      <td>0</td>\n",
              "      <td>4</td>\n",
              "      <td>11</td>\n",
              "      <td>0</td>\n",
              "      <td>1</td>\n",
              "      <td>12</td>\n",
              "      <td>7</td>\n",
              "      <td>0</td>\n",
              "      <td>0</td>\n",
              "      <td>2</td>\n",
              "      <td>14</td>\n",
              "      <td>5</td>\n",
              "      <td>10</td>\n",
              "      <td>12</td>\n",
              "      <td>0</td>\n",
              "      <td>0</td>\n",
              "      <td>0</td>\n",
              "      <td>0</td>\n",
              "      <td>6</td>\n",
              "      <td>13</td>\n",
              "      <td>10</td>\n",
              "      <td>0</td>\n",
              "      <td>0</td>\n",
              "      <td>0</td>\n",
              "      <td>0</td>\n",
              "    </tr>\n",
              "    <tr>\n",
              "      <th>1</th>\n",
              "      <td>0</td>\n",
              "      <td>0</td>\n",
              "      <td>0</td>\n",
              "      <td>12</td>\n",
              "      <td>13</td>\n",
              "      <td>5</td>\n",
              "      <td>0</td>\n",
              "      <td>0</td>\n",
              "      <td>0</td>\n",
              "      <td>0</td>\n",
              "      <td>0</td>\n",
              "      <td>11</td>\n",
              "      <td>16</td>\n",
              "      <td>9</td>\n",
              "      <td>0</td>\n",
              "      <td>0</td>\n",
              "      <td>0</td>\n",
              "      <td>0</td>\n",
              "      <td>3</td>\n",
              "      <td>15</td>\n",
              "      <td>16</td>\n",
              "      <td>6</td>\n",
              "      <td>0</td>\n",
              "      <td>0</td>\n",
              "      <td>0</td>\n",
              "      <td>7</td>\n",
              "      <td>15</td>\n",
              "      <td>16</td>\n",
              "      <td>16</td>\n",
              "      <td>2</td>\n",
              "      <td>0</td>\n",
              "      <td>0</td>\n",
              "      <td>0</td>\n",
              "      <td>0</td>\n",
              "      <td>1</td>\n",
              "      <td>16</td>\n",
              "      <td>16</td>\n",
              "      <td>3</td>\n",
              "      <td>0</td>\n",
              "      <td>0</td>\n",
              "      <td>0</td>\n",
              "      <td>0</td>\n",
              "      <td>1</td>\n",
              "      <td>16</td>\n",
              "      <td>16</td>\n",
              "      <td>6</td>\n",
              "      <td>0</td>\n",
              "      <td>0</td>\n",
              "      <td>0</td>\n",
              "      <td>0</td>\n",
              "      <td>1</td>\n",
              "      <td>16</td>\n",
              "      <td>16</td>\n",
              "      <td>6</td>\n",
              "      <td>0</td>\n",
              "      <td>0</td>\n",
              "      <td>0</td>\n",
              "      <td>0</td>\n",
              "      <td>0</td>\n",
              "      <td>11</td>\n",
              "      <td>16</td>\n",
              "      <td>10</td>\n",
              "      <td>0</td>\n",
              "      <td>0</td>\n",
              "      <td>1</td>\n",
              "    </tr>\n",
              "    <tr>\n",
              "      <th>2</th>\n",
              "      <td>0</td>\n",
              "      <td>0</td>\n",
              "      <td>0</td>\n",
              "      <td>4</td>\n",
              "      <td>15</td>\n",
              "      <td>12</td>\n",
              "      <td>0</td>\n",
              "      <td>0</td>\n",
              "      <td>0</td>\n",
              "      <td>0</td>\n",
              "      <td>3</td>\n",
              "      <td>16</td>\n",
              "      <td>15</td>\n",
              "      <td>14</td>\n",
              "      <td>0</td>\n",
              "      <td>0</td>\n",
              "      <td>0</td>\n",
              "      <td>0</td>\n",
              "      <td>8</td>\n",
              "      <td>13</td>\n",
              "      <td>8</td>\n",
              "      <td>16</td>\n",
              "      <td>0</td>\n",
              "      <td>0</td>\n",
              "      <td>0</td>\n",
              "      <td>0</td>\n",
              "      <td>1</td>\n",
              "      <td>6</td>\n",
              "      <td>15</td>\n",
              "      <td>11</td>\n",
              "      <td>0</td>\n",
              "      <td>0</td>\n",
              "      <td>0</td>\n",
              "      <td>1</td>\n",
              "      <td>8</td>\n",
              "      <td>13</td>\n",
              "      <td>15</td>\n",
              "      <td>1</td>\n",
              "      <td>0</td>\n",
              "      <td>0</td>\n",
              "      <td>0</td>\n",
              "      <td>9</td>\n",
              "      <td>16</td>\n",
              "      <td>16</td>\n",
              "      <td>5</td>\n",
              "      <td>0</td>\n",
              "      <td>0</td>\n",
              "      <td>0</td>\n",
              "      <td>0</td>\n",
              "      <td>3</td>\n",
              "      <td>13</td>\n",
              "      <td>16</td>\n",
              "      <td>16</td>\n",
              "      <td>11</td>\n",
              "      <td>5</td>\n",
              "      <td>0</td>\n",
              "      <td>0</td>\n",
              "      <td>0</td>\n",
              "      <td>0</td>\n",
              "      <td>3</td>\n",
              "      <td>11</td>\n",
              "      <td>16</td>\n",
              "      <td>9</td>\n",
              "      <td>0</td>\n",
              "      <td>2</td>\n",
              "    </tr>\n",
              "    <tr>\n",
              "      <th>3</th>\n",
              "      <td>0</td>\n",
              "      <td>0</td>\n",
              "      <td>7</td>\n",
              "      <td>15</td>\n",
              "      <td>13</td>\n",
              "      <td>1</td>\n",
              "      <td>0</td>\n",
              "      <td>0</td>\n",
              "      <td>0</td>\n",
              "      <td>8</td>\n",
              "      <td>13</td>\n",
              "      <td>6</td>\n",
              "      <td>15</td>\n",
              "      <td>4</td>\n",
              "      <td>0</td>\n",
              "      <td>0</td>\n",
              "      <td>0</td>\n",
              "      <td>2</td>\n",
              "      <td>1</td>\n",
              "      <td>13</td>\n",
              "      <td>13</td>\n",
              "      <td>0</td>\n",
              "      <td>0</td>\n",
              "      <td>0</td>\n",
              "      <td>0</td>\n",
              "      <td>0</td>\n",
              "      <td>2</td>\n",
              "      <td>15</td>\n",
              "      <td>11</td>\n",
              "      <td>1</td>\n",
              "      <td>0</td>\n",
              "      <td>0</td>\n",
              "      <td>0</td>\n",
              "      <td>0</td>\n",
              "      <td>0</td>\n",
              "      <td>1</td>\n",
              "      <td>12</td>\n",
              "      <td>12</td>\n",
              "      <td>1</td>\n",
              "      <td>0</td>\n",
              "      <td>0</td>\n",
              "      <td>0</td>\n",
              "      <td>0</td>\n",
              "      <td>0</td>\n",
              "      <td>1</td>\n",
              "      <td>10</td>\n",
              "      <td>8</td>\n",
              "      <td>0</td>\n",
              "      <td>0</td>\n",
              "      <td>0</td>\n",
              "      <td>8</td>\n",
              "      <td>4</td>\n",
              "      <td>5</td>\n",
              "      <td>14</td>\n",
              "      <td>9</td>\n",
              "      <td>0</td>\n",
              "      <td>0</td>\n",
              "      <td>0</td>\n",
              "      <td>7</td>\n",
              "      <td>13</td>\n",
              "      <td>13</td>\n",
              "      <td>9</td>\n",
              "      <td>0</td>\n",
              "      <td>0</td>\n",
              "      <td>3</td>\n",
              "    </tr>\n",
              "    <tr>\n",
              "      <th>4</th>\n",
              "      <td>0</td>\n",
              "      <td>0</td>\n",
              "      <td>0</td>\n",
              "      <td>1</td>\n",
              "      <td>11</td>\n",
              "      <td>0</td>\n",
              "      <td>0</td>\n",
              "      <td>0</td>\n",
              "      <td>0</td>\n",
              "      <td>0</td>\n",
              "      <td>0</td>\n",
              "      <td>7</td>\n",
              "      <td>8</td>\n",
              "      <td>0</td>\n",
              "      <td>0</td>\n",
              "      <td>0</td>\n",
              "      <td>0</td>\n",
              "      <td>0</td>\n",
              "      <td>1</td>\n",
              "      <td>13</td>\n",
              "      <td>6</td>\n",
              "      <td>2</td>\n",
              "      <td>2</td>\n",
              "      <td>0</td>\n",
              "      <td>0</td>\n",
              "      <td>0</td>\n",
              "      <td>7</td>\n",
              "      <td>15</td>\n",
              "      <td>0</td>\n",
              "      <td>9</td>\n",
              "      <td>8</td>\n",
              "      <td>0</td>\n",
              "      <td>0</td>\n",
              "      <td>5</td>\n",
              "      <td>16</td>\n",
              "      <td>10</td>\n",
              "      <td>0</td>\n",
              "      <td>16</td>\n",
              "      <td>6</td>\n",
              "      <td>0</td>\n",
              "      <td>0</td>\n",
              "      <td>4</td>\n",
              "      <td>15</td>\n",
              "      <td>16</td>\n",
              "      <td>13</td>\n",
              "      <td>16</td>\n",
              "      <td>1</td>\n",
              "      <td>0</td>\n",
              "      <td>0</td>\n",
              "      <td>0</td>\n",
              "      <td>0</td>\n",
              "      <td>3</td>\n",
              "      <td>15</td>\n",
              "      <td>10</td>\n",
              "      <td>0</td>\n",
              "      <td>0</td>\n",
              "      <td>0</td>\n",
              "      <td>0</td>\n",
              "      <td>0</td>\n",
              "      <td>2</td>\n",
              "      <td>16</td>\n",
              "      <td>4</td>\n",
              "      <td>0</td>\n",
              "      <td>0</td>\n",
              "      <td>4</td>\n",
              "    </tr>\n",
              "  </tbody>\n",
              "</table>\n",
              "</div>"
            ],
            "text/plain": [
              "   c00  c01  c02  c03  c04  c05  c06  ...  c58  c59  c60  c61  c62  c63  target\n",
              "0    0    0    5   13    9    1    0  ...    6   13   10    0    0    0       0\n",
              "1    0    0    0   12   13    5    0  ...    0   11   16   10    0    0       1\n",
              "2    0    0    0    4   15   12    0  ...    0    3   11   16    9    0       2\n",
              "3    0    0    7   15   13    1    0  ...    7   13   13    9    0    0       3\n",
              "4    0    0    0    1   11    0    0  ...    0    2   16    4    0    0       4\n",
              "\n",
              "[5 rows x 65 columns]"
            ]
          },
          "metadata": {},
          "execution_count": 36
        }
      ]
    },
    {
      "cell_type": "markdown",
      "metadata": {
        "id": "a_R5QMqzevMt"
      },
      "source": [
        ""
      ]
    },
    {
      "cell_type": "code",
      "metadata": {
        "colab": {
          "base_uri": "https://localhost:8080/",
          "height": 320
        },
        "id": "zgcOZO8WeU85",
        "outputId": "6814746c-0b86-46af-f3af-4b0dbf08a2e2"
      },
      "source": [
        "digits.describe()"
      ],
      "execution_count": null,
      "outputs": [
        {
          "output_type": "execute_result",
          "data": {
            "text/html": [
              "<div>\n",
              "<style scoped>\n",
              "    .dataframe tbody tr th:only-of-type {\n",
              "        vertical-align: middle;\n",
              "    }\n",
              "\n",
              "    .dataframe tbody tr th {\n",
              "        vertical-align: top;\n",
              "    }\n",
              "\n",
              "    .dataframe thead th {\n",
              "        text-align: right;\n",
              "    }\n",
              "</style>\n",
              "<table border=\"1\" class=\"dataframe\">\n",
              "  <thead>\n",
              "    <tr style=\"text-align: right;\">\n",
              "      <th></th>\n",
              "      <th>c00</th>\n",
              "      <th>c01</th>\n",
              "      <th>c02</th>\n",
              "      <th>c03</th>\n",
              "      <th>c04</th>\n",
              "      <th>c05</th>\n",
              "      <th>c06</th>\n",
              "      <th>c07</th>\n",
              "      <th>c08</th>\n",
              "      <th>c09</th>\n",
              "      <th>c10</th>\n",
              "      <th>c11</th>\n",
              "      <th>c12</th>\n",
              "      <th>c13</th>\n",
              "      <th>c14</th>\n",
              "      <th>c15</th>\n",
              "      <th>c16</th>\n",
              "      <th>c17</th>\n",
              "      <th>c18</th>\n",
              "      <th>c19</th>\n",
              "      <th>c20</th>\n",
              "      <th>c21</th>\n",
              "      <th>c22</th>\n",
              "      <th>c23</th>\n",
              "      <th>c24</th>\n",
              "      <th>c25</th>\n",
              "      <th>c26</th>\n",
              "      <th>c27</th>\n",
              "      <th>c28</th>\n",
              "      <th>c29</th>\n",
              "      <th>c30</th>\n",
              "      <th>c31</th>\n",
              "      <th>c32</th>\n",
              "      <th>c33</th>\n",
              "      <th>c34</th>\n",
              "      <th>c35</th>\n",
              "      <th>c36</th>\n",
              "      <th>c37</th>\n",
              "      <th>c38</th>\n",
              "      <th>c39</th>\n",
              "      <th>c40</th>\n",
              "      <th>c41</th>\n",
              "      <th>c42</th>\n",
              "      <th>c43</th>\n",
              "      <th>c44</th>\n",
              "      <th>c45</th>\n",
              "      <th>c46</th>\n",
              "      <th>c47</th>\n",
              "      <th>c48</th>\n",
              "      <th>c49</th>\n",
              "      <th>c50</th>\n",
              "      <th>c51</th>\n",
              "      <th>c52</th>\n",
              "      <th>c53</th>\n",
              "      <th>c54</th>\n",
              "      <th>c55</th>\n",
              "      <th>c56</th>\n",
              "      <th>c57</th>\n",
              "      <th>c58</th>\n",
              "      <th>c59</th>\n",
              "      <th>c60</th>\n",
              "      <th>c61</th>\n",
              "      <th>c62</th>\n",
              "      <th>c63</th>\n",
              "      <th>target</th>\n",
              "    </tr>\n",
              "  </thead>\n",
              "  <tbody>\n",
              "    <tr>\n",
              "      <th>count</th>\n",
              "      <td>1797.0</td>\n",
              "      <td>1797.000000</td>\n",
              "      <td>1797.000000</td>\n",
              "      <td>1797.000000</td>\n",
              "      <td>1797.000000</td>\n",
              "      <td>1797.000000</td>\n",
              "      <td>1797.000000</td>\n",
              "      <td>1797.000000</td>\n",
              "      <td>1797.000000</td>\n",
              "      <td>1797.000000</td>\n",
              "      <td>1797.000000</td>\n",
              "      <td>1797.000000</td>\n",
              "      <td>1797.000000</td>\n",
              "      <td>1797.000000</td>\n",
              "      <td>1797.000000</td>\n",
              "      <td>1797.000000</td>\n",
              "      <td>1797.000000</td>\n",
              "      <td>1797.000000</td>\n",
              "      <td>1797.000000</td>\n",
              "      <td>1797.000000</td>\n",
              "      <td>1797.000000</td>\n",
              "      <td>1797.000000</td>\n",
              "      <td>1797.000000</td>\n",
              "      <td>1797.000000</td>\n",
              "      <td>1797.000000</td>\n",
              "      <td>1797.000000</td>\n",
              "      <td>1797.000000</td>\n",
              "      <td>1797.000000</td>\n",
              "      <td>1797.000000</td>\n",
              "      <td>1797.000000</td>\n",
              "      <td>1797.000000</td>\n",
              "      <td>1797.000000</td>\n",
              "      <td>1797.0</td>\n",
              "      <td>1797.000000</td>\n",
              "      <td>1797.000000</td>\n",
              "      <td>1797.000000</td>\n",
              "      <td>1797.000000</td>\n",
              "      <td>1797.000000</td>\n",
              "      <td>1797.000000</td>\n",
              "      <td>1797.0</td>\n",
              "      <td>1797.000000</td>\n",
              "      <td>1797.000000</td>\n",
              "      <td>1797.000000</td>\n",
              "      <td>1797.000000</td>\n",
              "      <td>1797.000000</td>\n",
              "      <td>1797.000000</td>\n",
              "      <td>1797.000000</td>\n",
              "      <td>1797.000000</td>\n",
              "      <td>1797.000000</td>\n",
              "      <td>1797.000000</td>\n",
              "      <td>1797.000000</td>\n",
              "      <td>1797.000000</td>\n",
              "      <td>1797.000000</td>\n",
              "      <td>1797.000000</td>\n",
              "      <td>1797.000000</td>\n",
              "      <td>1797.000000</td>\n",
              "      <td>1797.000000</td>\n",
              "      <td>1797.000000</td>\n",
              "      <td>1797.000000</td>\n",
              "      <td>1797.000000</td>\n",
              "      <td>1797.000000</td>\n",
              "      <td>1797.000000</td>\n",
              "      <td>1797.000000</td>\n",
              "      <td>1797.000000</td>\n",
              "      <td>1797.000000</td>\n",
              "    </tr>\n",
              "    <tr>\n",
              "      <th>mean</th>\n",
              "      <td>0.0</td>\n",
              "      <td>0.303840</td>\n",
              "      <td>5.204786</td>\n",
              "      <td>11.835838</td>\n",
              "      <td>11.848080</td>\n",
              "      <td>5.781859</td>\n",
              "      <td>1.362270</td>\n",
              "      <td>0.129661</td>\n",
              "      <td>0.005565</td>\n",
              "      <td>1.993879</td>\n",
              "      <td>10.382304</td>\n",
              "      <td>11.979410</td>\n",
              "      <td>10.279354</td>\n",
              "      <td>8.175849</td>\n",
              "      <td>1.846411</td>\n",
              "      <td>0.107958</td>\n",
              "      <td>0.002782</td>\n",
              "      <td>2.601558</td>\n",
              "      <td>9.903172</td>\n",
              "      <td>6.992766</td>\n",
              "      <td>7.097941</td>\n",
              "      <td>7.806344</td>\n",
              "      <td>1.788536</td>\n",
              "      <td>0.050083</td>\n",
              "      <td>0.001113</td>\n",
              "      <td>2.469672</td>\n",
              "      <td>9.091263</td>\n",
              "      <td>8.821369</td>\n",
              "      <td>9.927101</td>\n",
              "      <td>7.551475</td>\n",
              "      <td>2.317752</td>\n",
              "      <td>0.002226</td>\n",
              "      <td>0.0</td>\n",
              "      <td>2.339455</td>\n",
              "      <td>7.667223</td>\n",
              "      <td>9.071786</td>\n",
              "      <td>10.301614</td>\n",
              "      <td>8.744018</td>\n",
              "      <td>2.909293</td>\n",
              "      <td>0.0</td>\n",
              "      <td>0.008904</td>\n",
              "      <td>1.583751</td>\n",
              "      <td>6.881469</td>\n",
              "      <td>7.228158</td>\n",
              "      <td>7.672231</td>\n",
              "      <td>8.236505</td>\n",
              "      <td>3.456316</td>\n",
              "      <td>0.027268</td>\n",
              "      <td>0.007234</td>\n",
              "      <td>0.704508</td>\n",
              "      <td>7.506956</td>\n",
              "      <td>9.539232</td>\n",
              "      <td>9.416249</td>\n",
              "      <td>8.758486</td>\n",
              "      <td>3.725097</td>\n",
              "      <td>0.206455</td>\n",
              "      <td>0.000556</td>\n",
              "      <td>0.279354</td>\n",
              "      <td>5.557596</td>\n",
              "      <td>12.089037</td>\n",
              "      <td>11.809126</td>\n",
              "      <td>6.764051</td>\n",
              "      <td>2.067891</td>\n",
              "      <td>0.364496</td>\n",
              "      <td>4.490818</td>\n",
              "    </tr>\n",
              "    <tr>\n",
              "      <th>std</th>\n",
              "      <td>0.0</td>\n",
              "      <td>0.907192</td>\n",
              "      <td>4.754826</td>\n",
              "      <td>4.248842</td>\n",
              "      <td>4.287388</td>\n",
              "      <td>5.666418</td>\n",
              "      <td>3.325775</td>\n",
              "      <td>1.037383</td>\n",
              "      <td>0.094222</td>\n",
              "      <td>3.196160</td>\n",
              "      <td>5.421456</td>\n",
              "      <td>3.977543</td>\n",
              "      <td>4.782681</td>\n",
              "      <td>6.052960</td>\n",
              "      <td>3.586321</td>\n",
              "      <td>0.827915</td>\n",
              "      <td>0.062368</td>\n",
              "      <td>3.576301</td>\n",
              "      <td>5.690767</td>\n",
              "      <td>5.802662</td>\n",
              "      <td>6.175729</td>\n",
              "      <td>6.197322</td>\n",
              "      <td>3.259870</td>\n",
              "      <td>0.438597</td>\n",
              "      <td>0.033352</td>\n",
              "      <td>3.146532</td>\n",
              "      <td>6.192038</td>\n",
              "      <td>5.882936</td>\n",
              "      <td>6.152093</td>\n",
              "      <td>5.872556</td>\n",
              "      <td>3.686456</td>\n",
              "      <td>0.047140</td>\n",
              "      <td>0.0</td>\n",
              "      <td>3.480372</td>\n",
              "      <td>6.324687</td>\n",
              "      <td>6.268391</td>\n",
              "      <td>5.933490</td>\n",
              "      <td>5.870648</td>\n",
              "      <td>3.537283</td>\n",
              "      <td>0.0</td>\n",
              "      <td>0.145185</td>\n",
              "      <td>2.981816</td>\n",
              "      <td>6.537955</td>\n",
              "      <td>6.441378</td>\n",
              "      <td>6.259511</td>\n",
              "      <td>5.695527</td>\n",
              "      <td>4.330951</td>\n",
              "      <td>0.307356</td>\n",
              "      <td>0.204223</td>\n",
              "      <td>1.746153</td>\n",
              "      <td>5.644496</td>\n",
              "      <td>5.226948</td>\n",
              "      <td>5.302048</td>\n",
              "      <td>6.031154</td>\n",
              "      <td>4.919406</td>\n",
              "      <td>0.984401</td>\n",
              "      <td>0.023590</td>\n",
              "      <td>0.934302</td>\n",
              "      <td>5.103019</td>\n",
              "      <td>4.374694</td>\n",
              "      <td>4.933947</td>\n",
              "      <td>5.900623</td>\n",
              "      <td>4.090548</td>\n",
              "      <td>1.860122</td>\n",
              "      <td>2.865304</td>\n",
              "    </tr>\n",
              "    <tr>\n",
              "      <th>min</th>\n",
              "      <td>0.0</td>\n",
              "      <td>0.000000</td>\n",
              "      <td>0.000000</td>\n",
              "      <td>0.000000</td>\n",
              "      <td>0.000000</td>\n",
              "      <td>0.000000</td>\n",
              "      <td>0.000000</td>\n",
              "      <td>0.000000</td>\n",
              "      <td>0.000000</td>\n",
              "      <td>0.000000</td>\n",
              "      <td>0.000000</td>\n",
              "      <td>0.000000</td>\n",
              "      <td>0.000000</td>\n",
              "      <td>0.000000</td>\n",
              "      <td>0.000000</td>\n",
              "      <td>0.000000</td>\n",
              "      <td>0.000000</td>\n",
              "      <td>0.000000</td>\n",
              "      <td>0.000000</td>\n",
              "      <td>0.000000</td>\n",
              "      <td>0.000000</td>\n",
              "      <td>0.000000</td>\n",
              "      <td>0.000000</td>\n",
              "      <td>0.000000</td>\n",
              "      <td>0.000000</td>\n",
              "      <td>0.000000</td>\n",
              "      <td>0.000000</td>\n",
              "      <td>0.000000</td>\n",
              "      <td>0.000000</td>\n",
              "      <td>0.000000</td>\n",
              "      <td>0.000000</td>\n",
              "      <td>0.000000</td>\n",
              "      <td>0.0</td>\n",
              "      <td>0.000000</td>\n",
              "      <td>0.000000</td>\n",
              "      <td>0.000000</td>\n",
              "      <td>0.000000</td>\n",
              "      <td>0.000000</td>\n",
              "      <td>0.000000</td>\n",
              "      <td>0.0</td>\n",
              "      <td>0.000000</td>\n",
              "      <td>0.000000</td>\n",
              "      <td>0.000000</td>\n",
              "      <td>0.000000</td>\n",
              "      <td>0.000000</td>\n",
              "      <td>0.000000</td>\n",
              "      <td>0.000000</td>\n",
              "      <td>0.000000</td>\n",
              "      <td>0.000000</td>\n",
              "      <td>0.000000</td>\n",
              "      <td>0.000000</td>\n",
              "      <td>0.000000</td>\n",
              "      <td>0.000000</td>\n",
              "      <td>0.000000</td>\n",
              "      <td>0.000000</td>\n",
              "      <td>0.000000</td>\n",
              "      <td>0.000000</td>\n",
              "      <td>0.000000</td>\n",
              "      <td>0.000000</td>\n",
              "      <td>0.000000</td>\n",
              "      <td>0.000000</td>\n",
              "      <td>0.000000</td>\n",
              "      <td>0.000000</td>\n",
              "      <td>0.000000</td>\n",
              "      <td>0.000000</td>\n",
              "    </tr>\n",
              "    <tr>\n",
              "      <th>25%</th>\n",
              "      <td>0.0</td>\n",
              "      <td>0.000000</td>\n",
              "      <td>1.000000</td>\n",
              "      <td>10.000000</td>\n",
              "      <td>10.000000</td>\n",
              "      <td>0.000000</td>\n",
              "      <td>0.000000</td>\n",
              "      <td>0.000000</td>\n",
              "      <td>0.000000</td>\n",
              "      <td>0.000000</td>\n",
              "      <td>6.000000</td>\n",
              "      <td>9.000000</td>\n",
              "      <td>7.000000</td>\n",
              "      <td>2.000000</td>\n",
              "      <td>0.000000</td>\n",
              "      <td>0.000000</td>\n",
              "      <td>0.000000</td>\n",
              "      <td>0.000000</td>\n",
              "      <td>5.000000</td>\n",
              "      <td>1.000000</td>\n",
              "      <td>1.000000</td>\n",
              "      <td>0.000000</td>\n",
              "      <td>0.000000</td>\n",
              "      <td>0.000000</td>\n",
              "      <td>0.000000</td>\n",
              "      <td>0.000000</td>\n",
              "      <td>3.000000</td>\n",
              "      <td>3.000000</td>\n",
              "      <td>4.000000</td>\n",
              "      <td>1.000000</td>\n",
              "      <td>0.000000</td>\n",
              "      <td>0.000000</td>\n",
              "      <td>0.0</td>\n",
              "      <td>0.000000</td>\n",
              "      <td>0.000000</td>\n",
              "      <td>3.000000</td>\n",
              "      <td>6.000000</td>\n",
              "      <td>3.000000</td>\n",
              "      <td>0.000000</td>\n",
              "      <td>0.0</td>\n",
              "      <td>0.000000</td>\n",
              "      <td>0.000000</td>\n",
              "      <td>0.000000</td>\n",
              "      <td>0.000000</td>\n",
              "      <td>1.000000</td>\n",
              "      <td>3.000000</td>\n",
              "      <td>0.000000</td>\n",
              "      <td>0.000000</td>\n",
              "      <td>0.000000</td>\n",
              "      <td>0.000000</td>\n",
              "      <td>2.000000</td>\n",
              "      <td>5.000000</td>\n",
              "      <td>5.000000</td>\n",
              "      <td>2.000000</td>\n",
              "      <td>0.000000</td>\n",
              "      <td>0.000000</td>\n",
              "      <td>0.000000</td>\n",
              "      <td>0.000000</td>\n",
              "      <td>1.000000</td>\n",
              "      <td>11.000000</td>\n",
              "      <td>10.000000</td>\n",
              "      <td>0.000000</td>\n",
              "      <td>0.000000</td>\n",
              "      <td>0.000000</td>\n",
              "      <td>2.000000</td>\n",
              "    </tr>\n",
              "    <tr>\n",
              "      <th>50%</th>\n",
              "      <td>0.0</td>\n",
              "      <td>0.000000</td>\n",
              "      <td>4.000000</td>\n",
              "      <td>13.000000</td>\n",
              "      <td>13.000000</td>\n",
              "      <td>4.000000</td>\n",
              "      <td>0.000000</td>\n",
              "      <td>0.000000</td>\n",
              "      <td>0.000000</td>\n",
              "      <td>0.000000</td>\n",
              "      <td>12.000000</td>\n",
              "      <td>13.000000</td>\n",
              "      <td>11.000000</td>\n",
              "      <td>9.000000</td>\n",
              "      <td>0.000000</td>\n",
              "      <td>0.000000</td>\n",
              "      <td>0.000000</td>\n",
              "      <td>1.000000</td>\n",
              "      <td>12.000000</td>\n",
              "      <td>6.000000</td>\n",
              "      <td>6.000000</td>\n",
              "      <td>8.000000</td>\n",
              "      <td>0.000000</td>\n",
              "      <td>0.000000</td>\n",
              "      <td>0.000000</td>\n",
              "      <td>1.000000</td>\n",
              "      <td>11.000000</td>\n",
              "      <td>10.000000</td>\n",
              "      <td>12.000000</td>\n",
              "      <td>7.000000</td>\n",
              "      <td>0.000000</td>\n",
              "      <td>0.000000</td>\n",
              "      <td>0.0</td>\n",
              "      <td>0.000000</td>\n",
              "      <td>8.000000</td>\n",
              "      <td>10.000000</td>\n",
              "      <td>13.000000</td>\n",
              "      <td>10.000000</td>\n",
              "      <td>1.000000</td>\n",
              "      <td>0.0</td>\n",
              "      <td>0.000000</td>\n",
              "      <td>0.000000</td>\n",
              "      <td>6.000000</td>\n",
              "      <td>7.000000</td>\n",
              "      <td>8.000000</td>\n",
              "      <td>9.000000</td>\n",
              "      <td>1.000000</td>\n",
              "      <td>0.000000</td>\n",
              "      <td>0.000000</td>\n",
              "      <td>0.000000</td>\n",
              "      <td>8.000000</td>\n",
              "      <td>10.000000</td>\n",
              "      <td>10.000000</td>\n",
              "      <td>10.000000</td>\n",
              "      <td>1.000000</td>\n",
              "      <td>0.000000</td>\n",
              "      <td>0.000000</td>\n",
              "      <td>0.000000</td>\n",
              "      <td>4.000000</td>\n",
              "      <td>13.000000</td>\n",
              "      <td>14.000000</td>\n",
              "      <td>6.000000</td>\n",
              "      <td>0.000000</td>\n",
              "      <td>0.000000</td>\n",
              "      <td>4.000000</td>\n",
              "    </tr>\n",
              "    <tr>\n",
              "      <th>75%</th>\n",
              "      <td>0.0</td>\n",
              "      <td>0.000000</td>\n",
              "      <td>9.000000</td>\n",
              "      <td>15.000000</td>\n",
              "      <td>15.000000</td>\n",
              "      <td>11.000000</td>\n",
              "      <td>0.000000</td>\n",
              "      <td>0.000000</td>\n",
              "      <td>0.000000</td>\n",
              "      <td>3.000000</td>\n",
              "      <td>15.000000</td>\n",
              "      <td>16.000000</td>\n",
              "      <td>15.000000</td>\n",
              "      <td>14.000000</td>\n",
              "      <td>2.000000</td>\n",
              "      <td>0.000000</td>\n",
              "      <td>0.000000</td>\n",
              "      <td>4.000000</td>\n",
              "      <td>15.000000</td>\n",
              "      <td>12.000000</td>\n",
              "      <td>13.000000</td>\n",
              "      <td>14.000000</td>\n",
              "      <td>3.000000</td>\n",
              "      <td>0.000000</td>\n",
              "      <td>0.000000</td>\n",
              "      <td>4.000000</td>\n",
              "      <td>15.000000</td>\n",
              "      <td>15.000000</td>\n",
              "      <td>16.000000</td>\n",
              "      <td>13.000000</td>\n",
              "      <td>4.000000</td>\n",
              "      <td>0.000000</td>\n",
              "      <td>0.0</td>\n",
              "      <td>4.000000</td>\n",
              "      <td>14.000000</td>\n",
              "      <td>16.000000</td>\n",
              "      <td>16.000000</td>\n",
              "      <td>14.000000</td>\n",
              "      <td>6.000000</td>\n",
              "      <td>0.0</td>\n",
              "      <td>0.000000</td>\n",
              "      <td>2.000000</td>\n",
              "      <td>14.000000</td>\n",
              "      <td>14.000000</td>\n",
              "      <td>14.000000</td>\n",
              "      <td>13.000000</td>\n",
              "      <td>7.000000</td>\n",
              "      <td>0.000000</td>\n",
              "      <td>0.000000</td>\n",
              "      <td>0.000000</td>\n",
              "      <td>13.000000</td>\n",
              "      <td>14.000000</td>\n",
              "      <td>15.000000</td>\n",
              "      <td>15.000000</td>\n",
              "      <td>7.000000</td>\n",
              "      <td>0.000000</td>\n",
              "      <td>0.000000</td>\n",
              "      <td>0.000000</td>\n",
              "      <td>10.000000</td>\n",
              "      <td>16.000000</td>\n",
              "      <td>16.000000</td>\n",
              "      <td>12.000000</td>\n",
              "      <td>2.000000</td>\n",
              "      <td>0.000000</td>\n",
              "      <td>7.000000</td>\n",
              "    </tr>\n",
              "    <tr>\n",
              "      <th>max</th>\n",
              "      <td>0.0</td>\n",
              "      <td>8.000000</td>\n",
              "      <td>16.000000</td>\n",
              "      <td>16.000000</td>\n",
              "      <td>16.000000</td>\n",
              "      <td>16.000000</td>\n",
              "      <td>16.000000</td>\n",
              "      <td>15.000000</td>\n",
              "      <td>2.000000</td>\n",
              "      <td>16.000000</td>\n",
              "      <td>16.000000</td>\n",
              "      <td>16.000000</td>\n",
              "      <td>16.000000</td>\n",
              "      <td>16.000000</td>\n",
              "      <td>16.000000</td>\n",
              "      <td>12.000000</td>\n",
              "      <td>2.000000</td>\n",
              "      <td>16.000000</td>\n",
              "      <td>16.000000</td>\n",
              "      <td>16.000000</td>\n",
              "      <td>16.000000</td>\n",
              "      <td>16.000000</td>\n",
              "      <td>16.000000</td>\n",
              "      <td>8.000000</td>\n",
              "      <td>1.000000</td>\n",
              "      <td>15.000000</td>\n",
              "      <td>16.000000</td>\n",
              "      <td>16.000000</td>\n",
              "      <td>16.000000</td>\n",
              "      <td>16.000000</td>\n",
              "      <td>15.000000</td>\n",
              "      <td>1.000000</td>\n",
              "      <td>0.0</td>\n",
              "      <td>14.000000</td>\n",
              "      <td>16.000000</td>\n",
              "      <td>16.000000</td>\n",
              "      <td>16.000000</td>\n",
              "      <td>16.000000</td>\n",
              "      <td>14.000000</td>\n",
              "      <td>0.0</td>\n",
              "      <td>4.000000</td>\n",
              "      <td>16.000000</td>\n",
              "      <td>16.000000</td>\n",
              "      <td>16.000000</td>\n",
              "      <td>16.000000</td>\n",
              "      <td>16.000000</td>\n",
              "      <td>16.000000</td>\n",
              "      <td>6.000000</td>\n",
              "      <td>8.000000</td>\n",
              "      <td>16.000000</td>\n",
              "      <td>16.000000</td>\n",
              "      <td>16.000000</td>\n",
              "      <td>16.000000</td>\n",
              "      <td>16.000000</td>\n",
              "      <td>16.000000</td>\n",
              "      <td>13.000000</td>\n",
              "      <td>1.000000</td>\n",
              "      <td>9.000000</td>\n",
              "      <td>16.000000</td>\n",
              "      <td>16.000000</td>\n",
              "      <td>16.000000</td>\n",
              "      <td>16.000000</td>\n",
              "      <td>16.000000</td>\n",
              "      <td>16.000000</td>\n",
              "      <td>9.000000</td>\n",
              "    </tr>\n",
              "  </tbody>\n",
              "</table>\n",
              "</div>"
            ],
            "text/plain": [
              "          c00          c01          c02  ...          c62          c63       target\n",
              "count  1797.0  1797.000000  1797.000000  ...  1797.000000  1797.000000  1797.000000\n",
              "mean      0.0     0.303840     5.204786  ...     2.067891     0.364496     4.490818\n",
              "std       0.0     0.907192     4.754826  ...     4.090548     1.860122     2.865304\n",
              "min       0.0     0.000000     0.000000  ...     0.000000     0.000000     0.000000\n",
              "25%       0.0     0.000000     1.000000  ...     0.000000     0.000000     2.000000\n",
              "50%       0.0     0.000000     4.000000  ...     0.000000     0.000000     4.000000\n",
              "75%       0.0     0.000000     9.000000  ...     2.000000     0.000000     7.000000\n",
              "max       0.0     8.000000    16.000000  ...    16.000000    16.000000     9.000000\n",
              "\n",
              "[8 rows x 65 columns]"
            ]
          },
          "metadata": {},
          "execution_count": 37
        }
      ]
    },
    {
      "cell_type": "markdown",
      "metadata": {
        "id": "VsYKbulke5sg"
      },
      "source": [
        "##Visualización"
      ]
    },
    {
      "cell_type": "code",
      "metadata": {
        "colab": {
          "base_uri": "https://localhost:8080/"
        },
        "id": "MBuSyWBtetP_",
        "outputId": "45647b78-7620-4bb7-e4f6-351f8bb50726"
      },
      "source": [
        "digits_dict[\"images\"][0]"
      ],
      "execution_count": null,
      "outputs": [
        {
          "output_type": "execute_result",
          "data": {
            "text/plain": [
              "array([[ 0.,  0.,  5., 13.,  9.,  1.,  0.,  0.],\n",
              "       [ 0.,  0., 13., 15., 10., 15.,  5.,  0.],\n",
              "       [ 0.,  3., 15.,  2.,  0., 11.,  8.,  0.],\n",
              "       [ 0.,  4., 12.,  0.,  0.,  8.,  8.,  0.],\n",
              "       [ 0.,  5.,  8.,  0.,  0.,  9.,  8.,  0.],\n",
              "       [ 0.,  4., 11.,  0.,  1., 12.,  7.,  0.],\n",
              "       [ 0.,  2., 14.,  5., 10., 12.,  0.,  0.],\n",
              "       [ 0.,  0.,  6., 13., 10.,  0.,  0.,  0.]])"
            ]
          },
          "metadata": {},
          "execution_count": 38
        }
      ]
    },
    {
      "cell_type": "code",
      "metadata": {
        "colab": {
          "base_uri": "https://localhost:8080/",
          "height": 738
        },
        "id": "_j0HDKEfnhR4",
        "outputId": "4fef3004-8e48-4bba-8a5b-38e8ddc125c8"
      },
      "source": [
        "predictor_names = digits.columns[:64]\n",
        "n_show = min(len(predictor_names),70)\n",
        "\n",
        "corrmat = digits[predictor_names[:n_show]].corr()\n",
        "fig, ax = plt.subplots(figsize=(13, 13))\n",
        "sns.heatmap(corrmat, vmax=.9, square=True, ax=ax, cmap='PiYG_r')\n",
        "ax.set_title(\"Correlación Lineal Predictores vs Predictores\")\n",
        "plt.show()"
      ],
      "execution_count": null,
      "outputs": [
        {
          "output_type": "display_data",
          "data": {
            "image/png": "[encoded data removed]",
            "text/plain": [
              "<Figure size 936x936 with 2 Axes>"
            ]
          },
          "metadata": {
            "needs_background": "light"
          }
        }
      ]
    },
    {
      "cell_type": "code",
      "metadata": {
        "colab": {
          "base_uri": "https://localhost:8080/"
        },
        "id": "5HRpRjVCocTD",
        "outputId": "7794375d-33e9-45d4-acbc-d23a7f459557"
      },
      "source": [
        "targets_count = []\n",
        "\n",
        "for i in range(len(np.unique(digits['target'].values))):\n",
        "    targets_count.append(tuple([i,digits[digits['target']==i].shape[0]]))\n",
        "\n",
        "print(f\"Cantidad de datos asociados a cada clase: {targets_count}\")"
      ],
      "execution_count": null,
      "outputs": [
        {
          "output_type": "stream",
          "name": "stdout",
          "text": [
            "Cantidad de datos asociados a cada clase: [(0, 178), (1, 182), (2, 177), (3, 183), (4, 181), (5, 182), (6, 181), (7, 179), (8, 174), (9, 180)]\n"
          ]
        }
      ]
    },
    {
      "cell_type": "code",
      "metadata": {
        "colab": {
          "base_uri": "https://localhost:8080/",
          "height": 704
        },
        "id": "836vl1vgeuNx",
        "outputId": "ed57ff33-be7d-40a3-9e80-bf623f15f870"
      },
      "source": [
        "nx, ny = 5, 5\n",
        "fig, axs = plt.subplots(nx, ny, figsize=(12, 12))\n",
        "for i in range(1,nx*ny+1):\n",
        "    image=digits_dict['images'][i] \n",
        "    fig.add_subplot(nx, ny, i)\n",
        "    plt.imshow(image)\n",
        "plt.show()"
      ],
      "execution_count": null,
      "outputs": [
        {
          "output_type": "display_data",
          "data": {
            "image/png": "[encoded data removed]",
            "text/plain": [
              "<Figure size 864x864 with 50 Axes>"
            ]
          },
          "metadata": {
            "needs_background": "light"
          }
        }
      ]
    },
    {
      "cell_type": "markdown",
      "metadata": {
        "id": "_SwaECM3fJwS"
      },
      "source": [
        "##Modelo\n"
      ]
    },
    {
      "cell_type": "code",
      "metadata": {
        "id": "Zus5Js6gfJgc"
      },
      "source": [
        "X = digits.drop(columns=\"target\").values\n",
        "y = digits[\"target\"].values"
      ],
      "execution_count": null,
      "outputs": []
    },
    {
      "cell_type": "code",
      "metadata": {
        "id": "VJcBJS1hfASg"
      },
      "source": [
        "X_train, X_test, y_train, y_test = train_test_split(X, y, test_size=0.33, random_state=1)"
      ],
      "execution_count": null,
      "outputs": []
    },
    {
      "cell_type": "code",
      "metadata": {
        "id": "1J01ZSC8f3lS",
        "colab": {
          "base_uri": "https://localhost:8080/"
        },
        "outputId": "a434d744-7779-4cf9-f09d-50e973e42f9a"
      },
      "source": [
        "Regresor=LogisticRegression()\n",
        "Regresor.fit(X_train,y_train)"
      ],
      "execution_count": null,
      "outputs": [
        {
          "output_type": "stream",
          "name": "stderr",
          "text": [
            "/usr/local/lib/python3.7/dist-packages/sklearn/linear_model/_logistic.py:818: ConvergenceWarning: lbfgs failed to converge (status=1):\n",
            "STOP: TOTAL NO. of ITERATIONS REACHED LIMIT.\n",
            "\n",
            "Increase the number of iterations (max_iter) or scale the data as shown in:\n",
            "    https://scikit-learn.org/stable/modules/preprocessing.html\n",
            "Please also refer to the documentation for alternative solver options:\n",
            "    https://scikit-learn.org/stable/modules/linear_model.html#logistic-regression\n",
            "  extra_warning_msg=_LOGISTIC_SOLVER_CONVERGENCE_MSG,\n"
          ]
        },
        {
          "output_type": "execute_result",
          "data": {
            "text/plain": [
              "LogisticRegression()"
            ]
          },
          "metadata": {},
          "execution_count": 44
        }
      ]
    },
    {
      "cell_type": "markdown",
      "metadata": {
        "id": "nkDi-8Zkp3NP"
      },
      "source": [
        "##Métricas"
      ]
    },
    {
      "cell_type": "code",
      "metadata": {
        "id": "rqcf4xEqpgOi"
      },
      "source": [
        "from sklearn.metrics import f1_score\n",
        "from sklearn.metrics import confusion_matrix\n",
        "from sklearn.metrics import classification_report"
      ],
      "execution_count": null,
      "outputs": []
    },
    {
      "cell_type": "code",
      "metadata": {
        "colab": {
          "base_uri": "https://localhost:8080/"
        },
        "id": "RmgdwRSxplsa",
        "outputId": "cfb808b7-b673-4afb-a480-2e834ed85f08"
      },
      "source": [
        "Regresor.score(X_test,y_test)"
      ],
      "execution_count": null,
      "outputs": [
        {
          "output_type": "execute_result",
          "data": {
            "text/plain": [
              "0.9663299663299664"
            ]
          },
          "metadata": {},
          "execution_count": 46
        }
      ]
    },
    {
      "cell_type": "code",
      "metadata": {
        "colab": {
          "base_uri": "https://localhost:8080/"
        },
        "id": "X5cMayOxp8C1",
        "outputId": "7d7873e8-fca1-4b77-9a00-70fb3947eabc"
      },
      "source": [
        "y_hat=Regresor.predict(X_test)\n",
        "f1_score(y_test,y_hat,average='micro')"
      ],
      "execution_count": null,
      "outputs": [
        {
          "data": {
            "text/plain": [
              "0.9663299663299664"
            ]
          },
          "execution_count": null,
          "metadata": {},
          "output_type": "execute_result"
        }
      ]
    },
    {
      "cell_type": "code",
      "metadata": {
        "colab": {
          "base_uri": "https://localhost:8080/"
        },
        "id": "iS6M4GKZqb8s",
        "outputId": "bf2e34f7-2dba-4ad5-d85f-ebecaab9c962"
      },
      "source": [
        "print(classification_report(y_test,y_hat))"
      ],
      "execution_count": null,
      "outputs": [
        {
          "output_type": "stream",
          "name": "stdout",
          "text": [
            "              precision    recall  f1-score   support\n",
            "\n",
            "           0       1.00      1.00      1.00        63\n",
            "           1       0.95      0.95      0.95        59\n",
            "           2       0.98      1.00      0.99        55\n",
            "           3       0.97      0.96      0.96        68\n",
            "           4       0.97      0.98      0.98        66\n",
            "           5       0.96      0.90      0.93        52\n",
            "           6       1.00      1.00      1.00        54\n",
            "           7       0.98      0.95      0.97        62\n",
            "           8       0.89      0.98      0.93        51\n",
            "           9       0.95      0.94      0.94        64\n",
            "\n",
            "    accuracy                           0.97       594\n",
            "   macro avg       0.97      0.97      0.97       594\n",
            "weighted avg       0.97      0.97      0.97       594\n",
            "\n"
          ]
        }
      ]
    },
    {
      "cell_type": "markdown",
      "metadata": {
        "id": "7nxgIYBjqvtQ"
      },
      "source": [
        "##PCA"
      ]
    },
    {
      "cell_type": "code",
      "metadata": {
        "id": "mrjjI-W7qwqY"
      },
      "source": [
        "pca = PCA(n_components=10) #Modelo, se tomarán 10 n-componentes, es decir, se tomarán 10 variables para reducir la dimensión\n",
        "principalComponents = pca.fit_transform(X) "
      ],
      "execution_count": null,
      "outputs": []
    },
    {
      "cell_type": "code",
      "metadata": {
        "colab": {
          "base_uri": "https://localhost:8080/",
          "height": 458
        },
        "id": "Mf7qmm5LrOXh",
        "outputId": "9013cbb1-5c45-4bdc-e90f-904123eef1d1"
      },
      "source": [
        "#Varianzas por n-componentes\n",
        "percent_variance = np.round(pca.explained_variance_ratio_, decimals =3)\n",
        "columns = ['PC1', 'PC2', 'PC3', 'PC4', 'PC5', 'PC6', 'PC7', 'PC8', 'PC9', 'PC10']\n",
        "\n",
        "plt.figure(figsize=(15,7))\n",
        "plt.bar(x= range(1,11), height=percent_variance, tick_label=columns)\n",
        "plt.ylabel('Percentate of Variance Explained')\n",
        "plt.xlabel('Principal Component')\n",
        "plt.title('PCA Scree Plot')\n",
        "plt.show()"
      ],
      "execution_count": null,
      "outputs": [
        {
          "output_type": "display_data",
          "data": {
            "image/png": "[encoded data removed]",
            "text/plain": [
              "<Figure size 1080x504 with 1 Axes>"
            ]
          },
          "metadata": {
            "needs_background": "light"
          }
        }
      ]
    },
    {
      "cell_type": "code",
      "metadata": {
        "colab": {
          "base_uri": "https://localhost:8080/",
          "height": 722
        },
        "id": "EDgUnI1ZrXlS",
        "outputId": "660e7772-b354-4ee2-cc7e-c43b6d25550c"
      },
      "source": [
        "# Gráfico de Varianza acumulada entre las n-componentes\n",
        "percent_variance_cum = np.cumsum(percent_variance)\n",
        "columns = ['PC1', \n",
        "           'PC1+PC2', \n",
        "           'PC1+PC2+PC3', \n",
        "           'PC1+PC2+PC3+PC4', \n",
        "           'PC1+PC2+PC3+PC4+PC5', \n",
        "           'PC1+PC2+PC3+PC4+PC5+PC6',\n",
        "           'PC1+PC2+PC3+PC4+PC5+PC6+PC7',\n",
        "           'PC1+PC2+PC3+PC4+PC5+PC6+PC7+PC8',\n",
        "           'PC1+PC2+PC3+PC4+PC5+PC6+PC7+PC8+PC9',\n",
        "           'PC1+PC2+PC3+PC4+PC5+PC6+PC7+PC8+PC9+PC10']\n",
        "\n",
        "plt.figure(figsize=(15,7))\n",
        "plt.bar(x= range(1,11), height=percent_variance_cum, tick_label=columns)\n",
        "plt.xticks(x= range(1,11), rotation='vertical')\n",
        "plt.ylabel('Percentate of Variance Explained')\n",
        "plt.xlabel('Principal Component Cumsum')\n",
        "plt.title('PCA Scree Plot')\n",
        "plt.show()"
      ],
      "execution_count": null,
      "outputs": [
        {
          "output_type": "display_data",
          "data": {
            "image/png": "[encoded data removed]",
            "text/plain": [
              "<Figure size 1080x504 with 1 Axes>"
            ]
          },
          "metadata": {
            "needs_background": "light"
          }
        }
      ]
    },
    {
      "cell_type": "code",
      "metadata": {
        "colab": {
          "base_uri": "https://localhost:8080/"
        },
        "id": "zX3CBvWMrbC3",
        "outputId": "1dfaf4c9-c312-4026-a082-202e9b1637a7"
      },
      "source": [
        "#Veamos cuanto es el valor del acumulado al final\n",
        "percent_variance_cum[9]"
      ],
      "execution_count": null,
      "outputs": [
        {
          "output_type": "execute_result",
          "data": {
            "text/plain": [
              "0.7390000000000002"
            ]
          },
          "metadata": {},
          "execution_count": 60
        }
      ]
    },
    {
      "cell_type": "code",
      "metadata": {
        "id": "XgvPskGKrb1B"
      },
      "source": [
        "pca2 = PCA(n_components=15) #Modelo, se tomarán 15 n-componentes, es decir, se tomarán 10 variables para reducir la dimensión\n",
        "principalComponents2 = pca2.fit_transform(X) "
      ],
      "execution_count": null,
      "outputs": []
    },
    {
      "cell_type": "code",
      "metadata": {
        "colab": {
          "base_uri": "https://localhost:8080/",
          "height": 458
        },
        "id": "MAf1CHA0rlEK",
        "outputId": "7def89a3-6a04-4701-db61-6166a75f2165"
      },
      "source": [
        "#Varianzas por n-componentes\n",
        "percent_variance2 = np.round(pca2.explained_variance_ratio_, decimals =3)\n",
        "columns = ['PC1', 'PC2', 'PC3', 'PC4', 'PC5', 'PC6', 'PC7', 'PC8', 'PC9', 'PC10','PC11','PC12','PC13','PC14','PC15']\n",
        "\n",
        "plt.figure(figsize=(15,7))\n",
        "plt.bar(x= range(1,16), height=percent_variance2, tick_label=columns)\n",
        "plt.ylabel('Percentate of Variance Explained')\n",
        "plt.xlabel('Principal Component')\n",
        "plt.title('PCA Scree Plot')\n",
        "plt.show()"
      ],
      "execution_count": null,
      "outputs": [
        {
          "output_type": "display_data",
          "data": {
            "image/png": "[encoded data removed]",
            "text/plain": [
              "<Figure size 1080x504 with 1 Axes>"
            ]
          },
          "metadata": {
            "needs_background": "light"
          }
        }
      ]
    },
    {
      "cell_type": "code",
      "metadata": {
        "colab": {
          "base_uri": "https://localhost:8080/",
          "height": 474
        },
        "id": "NIxZAuX3r-ad",
        "outputId": "b46d5c42-d6d2-438e-b5e4-1213be3e9e3c"
      },
      "source": [
        "percent_variance_cum2 = np.cumsum(percent_variance2)\n",
        "columns = ['PC1', 'PC2', 'PC3', 'PC4', 'PC5', 'PC6', 'PC7', 'PC8', 'PC9', 'PC10','PC11','PC12','PC13','PC14','PC15']\n",
        "\n",
        "plt.figure(figsize=(15,7))\n",
        "plt.bar(x= range(1,16), height=percent_variance_cum2, tick_label=columns)\n",
        "plt.xticks(x= range(1,16), rotation='vertical')\n",
        "plt.ylabel('Percentate of Variance Explained')\n",
        "plt.xlabel('Principal Component Cumsum')\n",
        "plt.title('PCA Scree Plot')\n",
        "plt.show()"
      ],
      "execution_count": null,
      "outputs": [
        {
          "output_type": "display_data",
          "data": {
            "image/png": "[encoded data removed]",
            "text/plain": [
              "<Figure size 1080x504 with 1 Axes>"
            ]
          },
          "metadata": {
            "needs_background": "light"
          }
        }
      ]
    },
    {
      "cell_type": "code",
      "metadata": {
        "colab": {
          "base_uri": "https://localhost:8080/"
        },
        "id": "TwWyLJmJr2KT",
        "outputId": "1f796c00-93b4-4e51-a795-44982a7fde14"
      },
      "source": [
        "percent_variance_cum2[14]"
      ],
      "execution_count": null,
      "outputs": [
        {
          "output_type": "execute_result",
          "data": {
            "text/plain": [
              "0.8370000000000003"
            ]
          },
          "metadata": {},
          "execution_count": 66
        }
      ]
    },
    {
      "cell_type": "code",
      "metadata": {
        "colab": {
          "base_uri": "https://localhost:8080/",
          "height": 226
        },
        "id": "uB74YUflsjK4",
        "outputId": "7d2c3297-0355-4418-cc8d-39fc40d6aae2"
      },
      "source": [
        "principalDataframe = pd.DataFrame(data = principalComponents2, \n",
        "                                  columns = ['PC1', 'PC2', 'PC3', 'PC4', 'PC5', 'PC6', 'PC7', 'PC8', 'PC9', 'PC10','PC11','PC12','PC13','PC14','PC15'])\n",
        "targetDataframe = digits_dict[\"target\"]\n",
        "df_reducido['target']=targetDataframe\n",
        "df_reducido.head()"
      ],
      "execution_count": null,
      "outputs": [
        {
          "output_type": "execute_result",
          "data": {
            "text/html": [
              "<div>\n",
              "<style scoped>\n",
              "    .dataframe tbody tr th:only-of-type {\n",
              "        vertical-align: middle;\n",
              "    }\n",
              "\n",
              "    .dataframe tbody tr th {\n",
              "        vertical-align: top;\n",
              "    }\n",
              "\n",
              "    .dataframe thead th {\n",
              "        text-align: right;\n",
              "    }\n",
              "</style>\n",
              "<table border=\"1\" class=\"dataframe\">\n",
              "  <thead>\n",
              "    <tr style=\"text-align: right;\">\n",
              "      <th></th>\n",
              "      <th>PC1</th>\n",
              "      <th>PC2</th>\n",
              "      <th>PC3</th>\n",
              "      <th>PC4</th>\n",
              "      <th>PC5</th>\n",
              "      <th>PC6</th>\n",
              "      <th>PC7</th>\n",
              "      <th>PC8</th>\n",
              "      <th>PC9</th>\n",
              "      <th>PC10</th>\n",
              "      <th>PC11</th>\n",
              "      <th>PC12</th>\n",
              "      <th>PC13</th>\n",
              "      <th>PC14</th>\n",
              "      <th>PC15</th>\n",
              "      <th>0</th>\n",
              "      <th>target</th>\n",
              "    </tr>\n",
              "  </thead>\n",
              "  <tbody>\n",
              "    <tr>\n",
              "      <th>0</th>\n",
              "      <td>-1.259466</td>\n",
              "      <td>21.274884</td>\n",
              "      <td>-9.463049</td>\n",
              "      <td>13.014285</td>\n",
              "      <td>-7.128740</td>\n",
              "      <td>-7.440284</td>\n",
              "      <td>3.252096</td>\n",
              "      <td>2.552369</td>\n",
              "      <td>-0.584073</td>\n",
              "      <td>3.619971</td>\n",
              "      <td>2.587380</td>\n",
              "      <td>1.553155</td>\n",
              "      <td>0.899551</td>\n",
              "      <td>-3.290281</td>\n",
              "      <td>5.944562</td>\n",
              "      <td>0</td>\n",
              "      <td>0</td>\n",
              "    </tr>\n",
              "    <tr>\n",
              "      <th>1</th>\n",
              "      <td>7.957616</td>\n",
              "      <td>-20.768712</td>\n",
              "      <td>4.439513</td>\n",
              "      <td>-14.893354</td>\n",
              "      <td>5.896929</td>\n",
              "      <td>-6.483761</td>\n",
              "      <td>2.123156</td>\n",
              "      <td>-4.618262</td>\n",
              "      <td>3.579285</td>\n",
              "      <td>-1.086348</td>\n",
              "      <td>-5.397691</td>\n",
              "      <td>-2.127524</td>\n",
              "      <td>-2.408285</td>\n",
              "      <td>-6.414142</td>\n",
              "      <td>-2.265012</td>\n",
              "      <td>1</td>\n",
              "      <td>1</td>\n",
              "    </tr>\n",
              "    <tr>\n",
              "      <th>2</th>\n",
              "      <td>6.991923</td>\n",
              "      <td>-9.955976</td>\n",
              "      <td>2.958558</td>\n",
              "      <td>-12.288286</td>\n",
              "      <td>-18.126254</td>\n",
              "      <td>-4.508041</td>\n",
              "      <td>1.843306</td>\n",
              "      <td>-16.415045</td>\n",
              "      <td>0.719479</td>\n",
              "      <td>4.254246</td>\n",
              "      <td>-1.226651</td>\n",
              "      <td>-0.384653</td>\n",
              "      <td>0.170640</td>\n",
              "      <td>6.882195</td>\n",
              "      <td>-1.691937</td>\n",
              "      <td>2</td>\n",
              "      <td>2</td>\n",
              "    </tr>\n",
              "    <tr>\n",
              "      <th>3</th>\n",
              "      <td>-15.906106</td>\n",
              "      <td>3.332462</td>\n",
              "      <td>9.824361</td>\n",
              "      <td>-12.276024</td>\n",
              "      <td>6.964864</td>\n",
              "      <td>1.089171</td>\n",
              "      <td>-1.040238</td>\n",
              "      <td>10.975336</td>\n",
              "      <td>-3.254245</td>\n",
              "      <td>6.508448</td>\n",
              "      <td>-5.061371</td>\n",
              "      <td>2.393612</td>\n",
              "      <td>2.613868</td>\n",
              "      <td>-4.622643</td>\n",
              "      <td>0.738441</td>\n",
              "      <td>3</td>\n",
              "      <td>3</td>\n",
              "    </tr>\n",
              "    <tr>\n",
              "      <th>4</th>\n",
              "      <td>23.306866</td>\n",
              "      <td>4.269063</td>\n",
              "      <td>-5.675129</td>\n",
              "      <td>-13.851582</td>\n",
              "      <td>-0.358257</td>\n",
              "      <td>-2.857836</td>\n",
              "      <td>-0.719823</td>\n",
              "      <td>13.042037</td>\n",
              "      <td>-3.833616</td>\n",
              "      <td>13.416656</td>\n",
              "      <td>2.676915</td>\n",
              "      <td>-1.757165</td>\n",
              "      <td>-5.327623</td>\n",
              "      <td>1.458525</td>\n",
              "      <td>-0.691404</td>\n",
              "      <td>4</td>\n",
              "      <td>4</td>\n",
              "    </tr>\n",
              "  </tbody>\n",
              "</table>\n",
              "</div>"
            ],
            "text/plain": [
              "         PC1        PC2       PC3        PC4  ...      PC14      PC15  0  target\n",
              "0  -1.259466  21.274884 -9.463049  13.014285  ... -3.290281  5.944562  0       0\n",
              "1   7.957616 -20.768712  4.439513 -14.893354  ... -6.414142 -2.265012  1       1\n",
              "2   6.991923  -9.955976  2.958558 -12.288286  ...  6.882195 -1.691937  2       2\n",
              "3 -15.906106   3.332462  9.824361 -12.276024  ... -4.622643  0.738441  3       3\n",
              "4  23.306866   4.269063 -5.675129 -13.851582  ...  1.458525 -0.691404  4       4\n",
              "\n",
              "[5 rows x 17 columns]"
            ]
          },
          "metadata": {},
          "execution_count": 73
        }
      ]
    },
    {
      "cell_type": "code",
      "metadata": {
        "id": "kV7Mvev3tRsc"
      },
      "source": [
        "#Se utilizan las componentes proyectadas\n",
        "X = df_reducido[['PC1', 'PC2', 'PC3', 'PC4', 'PC5', 'PC6', 'PC7', 'PC8', 'PC9', 'PC10','PC11','PC12','PC13','PC14','PC15']]\n",
        "Y = df_reducido['target']\n",
        "\n",
        "#Se crean los conjuntos de entrenamiento y test desde los conjuntos definidos anteriormente\n",
        "X_train, X_test, Y_train, Y_test = train_test_split(X, Y, test_size=0.33, random_state = 2)"
      ],
      "execution_count": null,
      "outputs": []
    },
    {
      "cell_type": "markdown",
      "metadata": {
        "id": "d-Oieq4ZvhKk"
      },
      "source": [
        "##Modelo + PCA"
      ]
    },
    {
      "cell_type": "code",
      "metadata": {
        "colab": {
          "base_uri": "https://localhost:8080/"
        },
        "id": "-7V1sLzZvfPj",
        "outputId": "460e6735-e7fd-4f68-e2c0-8c0ce8a43d4e"
      },
      "source": [
        "model=LogisticRegression()\n",
        "model.fit(X_train,Y_train)"
      ],
      "execution_count": null,
      "outputs": [
        {
          "output_type": "stream",
          "name": "stderr",
          "text": [
            "/usr/local/lib/python3.7/dist-packages/sklearn/linear_model/_logistic.py:818: ConvergenceWarning: lbfgs failed to converge (status=1):\n",
            "STOP: TOTAL NO. of ITERATIONS REACHED LIMIT.\n",
            "\n",
            "Increase the number of iterations (max_iter) or scale the data as shown in:\n",
            "    https://scikit-learn.org/stable/modules/preprocessing.html\n",
            "Please also refer to the documentation for alternative solver options:\n",
            "    https://scikit-learn.org/stable/modules/linear_model.html#logistic-regression\n",
            "  extra_warning_msg=_LOGISTIC_SOLVER_CONVERGENCE_MSG,\n"
          ]
        },
        {
          "output_type": "execute_result",
          "data": {
            "text/plain": [
              "LogisticRegression()"
            ]
          },
          "metadata": {},
          "execution_count": 75
        }
      ]
    },
    {
      "cell_type": "code",
      "metadata": {
        "colab": {
          "base_uri": "https://localhost:8080/"
        },
        "id": "9R--sumFwARl",
        "outputId": "ee503f6f-70c2-4ebe-f1c5-8692420e91f8"
      },
      "source": [
        "model.score(X_test,Y_test)"
      ],
      "execution_count": null,
      "outputs": [
        {
          "output_type": "execute_result",
          "data": {
            "text/plain": [
              "0.930976430976431"
            ]
          },
          "metadata": {},
          "execution_count": 76
        }
      ]
    },
    {
      "cell_type": "code",
      "metadata": {
        "colab": {
          "base_uri": "https://localhost:8080/"
        },
        "id": "gpeGO2sRwG8V",
        "outputId": "272cd6ea-43ff-48f1-b9b7-10afe0dab8ac"
      },
      "source": [
        "y_hat=model.predict(X_test)\n",
        "confusion_matrix(Y_test, y_hat)"
      ],
      "execution_count": null,
      "outputs": [
        {
          "output_type": "execute_result",
          "data": {
            "text/plain": [
              "array([[60,  0,  0,  0,  1,  0,  0,  0,  0,  0],\n",
              "       [ 0, 51,  0,  1,  0,  0,  1,  0,  3,  5],\n",
              "       [ 0,  0, 55,  0,  0,  0,  0,  0,  0,  0],\n",
              "       [ 0,  0,  0, 65,  0,  1,  0,  1,  1,  0],\n",
              "       [ 0,  0,  0,  0, 56,  0,  0,  0,  2,  1],\n",
              "       [ 1,  1,  0,  0,  1, 58,  0,  0,  1,  1],\n",
              "       [ 1,  1,  0,  0,  0,  0, 64,  0,  1,  0],\n",
              "       [ 0,  0,  0,  0,  0,  2,  0, 53,  2,  0],\n",
              "       [ 0,  3,  0,  1,  1,  2,  1,  0, 43,  1],\n",
              "       [ 0,  0,  0,  2,  0,  1,  0,  0,  0, 48]])"
            ]
          },
          "metadata": {},
          "execution_count": 78
        }
      ]
    },
    {
      "cell_type": "code",
      "metadata": {
        "colab": {
          "base_uri": "https://localhost:8080/"
        },
        "id": "QII7gxLrwRu3",
        "outputId": "536e6d45-a8dd-4000-cf06-44861a82387b"
      },
      "source": [
        "print(classification_report(Y_test,y_hat))"
      ],
      "execution_count": null,
      "outputs": [
        {
          "output_type": "stream",
          "name": "stdout",
          "text": [
            "              precision    recall  f1-score   support\n",
            "\n",
            "           0       0.97      0.98      0.98        61\n",
            "           1       0.91      0.84      0.87        61\n",
            "           2       1.00      1.00      1.00        55\n",
            "           3       0.94      0.96      0.95        68\n",
            "           4       0.95      0.95      0.95        59\n",
            "           5       0.91      0.92      0.91        63\n",
            "           6       0.97      0.96      0.96        67\n",
            "           7       0.98      0.93      0.95        57\n",
            "           8       0.81      0.83      0.82        52\n",
            "           9       0.86      0.94      0.90        51\n",
            "\n",
            "    accuracy                           0.93       594\n",
            "   macro avg       0.93      0.93      0.93       594\n",
            "weighted avg       0.93      0.93      0.93       594\n",
            "\n"
          ]
        }
      ]
    }
  ]
}